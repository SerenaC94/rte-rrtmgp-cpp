{
 "cells": [
  {
   "cell_type": "markdown",
   "metadata": {
    "id": "mHbs8jGi-5oA"
   },
   "source": [
    "### **Setup**"
   ]
  },
  {
   "cell_type": "markdown",
   "metadata": {
    "id": "DCYDatBP_CWb"
   },
   "source": [
    "Preliminary steps to compile and install the application:"
   ]
  },
  {
   "cell_type": "code",
   "execution_count": 1,
   "metadata": {
    "id": "BSPOT--4-kSH"
   },
   "outputs": [
    {
     "name": "stdout",
     "output_type": "stream",
     "text": [
      "Requirement already satisfied: netCDF4 in /home/matteo/.local/lib/python3.8/site-packages (1.6.5)\r\n",
      "Requirement already satisfied: cftime in /home/matteo/.local/lib/python3.8/site-packages (from netCDF4) (1.6.3)\r\n",
      "Requirement already satisfied: certifi in /usr/lib/python3/dist-packages (from netCDF4) (2019.11.28)\r\n",
      "Requirement already satisfied: numpy in /home/matteo/.local/lib/python3.8/site-packages (from netCDF4) (1.24.1)\r\n"
     ]
    }
   ],
   "source": [
    "!pip install netCDF4"
   ]
  },
  {
   "cell_type": "code",
   "execution_count": 2,
   "metadata": {
    "id": "CfB-RJhrwkCI"
   },
   "outputs": [
    {
     "name": "stdout",
     "output_type": "stream",
     "text": [
      "fatal: il percorso di destinazione 'rte-rrtmgp-cpp' esiste già e non è una directory vuota.\r\n"
     ]
    }
   ],
   "source": [
    "!git clone https://github.com/SerenaC94/rte-rrtmgp-cpp.git"
   ]
  },
  {
   "cell_type": "code",
   "execution_count": 3,
   "metadata": {
    "id": "-Z9fSUWSwqhZ"
   },
   "outputs": [
    {
     "name": "stdout",
     "output_type": "stream",
     "text": [
      "/home/matteo/hpc/parallel/challenge/translate-challenge/rte-rrtmgp-cpp\n"
     ]
    }
   ],
   "source": [
    "%cd rte-rrtmgp-cpp/"
   ]
  },
  {
   "cell_type": "code",
   "execution_count": 4,
   "metadata": {
    "id": "FKOQTF_jxNm7"
   },
   "outputs": [
    {
     "name": "stdout",
     "output_type": "stream",
     "text": [
      "Si è già su 'cuda'\r\n",
      "Il tuo branch è aggiornato rispetto a 'origin/cuda'.\r\n"
     ]
    }
   ],
   "source": [
    "!git checkout cuda"
   ]
  },
  {
   "cell_type": "code",
   "execution_count": 5,
   "metadata": {
    "id": "E3gKRQJX9Ot4"
   },
   "outputs": [],
   "source": [
    "!git submodule update --init"
   ]
  },
  {
   "cell_type": "code",
   "execution_count": 6,
   "metadata": {
    "id": "v29bdKByzV_e"
   },
   "outputs": [
    {
     "name": "stdout",
     "output_type": "stream",
     "text": [
      "mkdir: impossibile creare la directory \"build\": File già esistente\r\n"
     ]
    }
   ],
   "source": [
    "!mkdir build"
   ]
  },
  {
   "cell_type": "code",
   "execution_count": 7,
   "metadata": {
    "id": "TGPp40cVzXSe"
   },
   "outputs": [
    {
     "name": "stdout",
     "output_type": "stream",
     "text": [
      "/home/matteo/hpc/parallel/challenge/translate-challenge/rte-rrtmgp-cpp/build\n"
     ]
    }
   ],
   "source": [
    "%cd build"
   ]
  },
  {
   "cell_type": "code",
   "execution_count": 8,
   "metadata": {
    "id": "lxONPUijzYnA"
   },
   "outputs": [
    {
     "name": "stdout",
     "output_type": "stream",
     "text": [
      "-- Precision: Double (64-bits floats)\n",
      "-- CUDA: Enabled.\n",
      "-- CXX-compiler flags: -std=c++14 -DBOOL_TYPE=\"signed char\" -O3 -DNDEBUG -march=native\n",
      "-- Fortran-compiler flags: -std=c++14 -DBOOL_TYPE=\"signed char\" -O3 -DNDEBUG -march=native\n",
      "-- NVCC-compiler flags:  \n",
      "-- Git hash v0.2.1-635-g6bc10e9\n",
      "-- Configuring done (0.0s)\n",
      "\u001b[33mCMake Warning (dev) in src_kernels_cuda/CMakeLists.txt:\n",
      "  Policy CMP0104 is not set: CMAKE_CUDA_ARCHITECTURES now detected for NVCC,\n",
      "  empty CUDA_ARCHITECTURES not allowed.  Run \"cmake --help-policy CMP0104\"\n",
      "  for policy details.  Use the cmake_policy command to set the policy and\n",
      "  suppress this warning.\n",
      "\n",
      "  CUDA_ARCHITECTURES is empty for target \"rte_rrtmgp_kernels_cuda\".\n",
      "This warning is for project developers.  Use -Wno-dev to suppress it.\n",
      "\u001b[0m\n",
      "\u001b[33mCMake Warning (dev) in src_kernels_cuda/CMakeLists.txt:\n",
      "  Policy CMP0104 is not set: CMAKE_CUDA_ARCHITECTURES now detected for NVCC,\n",
      "  empty CUDA_ARCHITECTURES not allowed.  Run \"cmake --help-policy CMP0104\"\n",
      "  for policy details.  Use the cmake_policy command to set the policy and\n",
      "  suppress this warning.\n",
      "\n",
      "  CUDA_ARCHITECTURES is empty for target \"rte_rrtmgp_kernels_cuda\".\n",
      "This warning is for project developers.  Use -Wno-dev to suppress it.\n",
      "\u001b[0m\n",
      "\u001b[33mCMake Warning (dev) in src_cuda/CMakeLists.txt:\n",
      "  Policy CMP0104 is not set: CMAKE_CUDA_ARCHITECTURES now detected for NVCC,\n",
      "  empty CUDA_ARCHITECTURES not allowed.  Run \"cmake --help-policy CMP0104\"\n",
      "  for policy details.  Use the cmake_policy command to set the policy and\n",
      "  suppress this warning.\n",
      "\n",
      "  CUDA_ARCHITECTURES is empty for target \"rte_rrtmgp_cuda\".\n",
      "This warning is for project developers.  Use -Wno-dev to suppress it.\n",
      "\u001b[0m\n",
      "\u001b[33mCMake Warning (dev) in src_cuda/CMakeLists.txt:\n",
      "  Policy CMP0104 is not set: CMAKE_CUDA_ARCHITECTURES now detected for NVCC,\n",
      "  empty CUDA_ARCHITECTURES not allowed.  Run \"cmake --help-policy CMP0104\"\n",
      "  for policy details.  Use the cmake_policy command to set the policy and\n",
      "  suppress this warning.\n",
      "\n",
      "  CUDA_ARCHITECTURES is empty for target \"rte_rrtmgp_cuda\".\n",
      "This warning is for project developers.  Use -Wno-dev to suppress it.\n",
      "\u001b[0m\n",
      "\u001b[33mCMake Warning (dev) in src_test/CMakeLists.txt:\n",
      "  Policy CMP0104 is not set: CMAKE_CUDA_ARCHITECTURES now detected for NVCC,\n",
      "  empty CUDA_ARCHITECTURES not allowed.  Run \"cmake --help-policy CMP0104\"\n",
      "  for policy details.  Use the cmake_policy command to set the policy and\n",
      "  suppress this warning.\n",
      "\n",
      "  CUDA_ARCHITECTURES is empty for target \"test_rte_rrtmgp_gpu\".\n",
      "This warning is for project developers.  Use -Wno-dev to suppress it.\n",
      "\u001b[0m\n",
      "-- Generating done (0.0s)\n",
      "-- Build files have been written to: /home/matteo/hpc/parallel/challenge/translate-challenge/rte-rrtmgp-cpp/build\n"
     ]
    }
   ],
   "source": [
    "!cmake .. -DSYST=ubuntu -DUSECUDA=on"
   ]
  },
  {
   "cell_type": "code",
   "execution_count": 9,
   "metadata": {
    "id": "vHDMVu-J2gS4"
   },
   "outputs": [
    {
     "name": "stdout",
     "output_type": "stream",
     "text": [
      "[ 22%] Built target rte_rrtmgp_kernels\n",
      "[ 47%] Built target rte_rrtmgp\n",
      "[ 50%] \u001b[32mBuilding CUDA object src_kernels_cuda/CMakeFiles/rte_rrtmgp_kernels_cuda.dir/gas_optics_kernel_launchers.cu.o\u001b[0m\n",
      "/home/matteo/hpc/parallel/challenge/translate-challenge/rte-rrtmgp-cpp/src_kernels_cuda/../include/tuner.h(308): error: parameter pack \"Is\" was referenced but not expanded\n",
      "\n",
      "/home/matteo/hpc/parallel/challenge/translate-challenge/rte-rrtmgp-cpp/src_kernels_cuda/../include/tuner.h(308): error: expected an expression\n",
      "\n",
      "/home/matteo/hpc/parallel/challenge/translate-challenge/rte-rrtmgp-cpp/src_kernels_cuda/../include/tuner.h(267): error: parameter pack \"Js\" was referenced but not expanded\n",
      "          detected during instantiation of \"std::tuple<dim3, dim3> tune_kernel_compile_time<Func,Args...,Is...,Js...,Ks...>(const std::__cxx11::string &, dim3, std::integer_sequence<unsigned int, Is...>, std::integer_sequence<unsigned int, Js...>, std::integer_sequence<unsigned int, Ks...>, Args &&...) [with Func=rrtmgp_kernel_launcher_cuda::Gas_optical_depths_major_kernel, Args=<const int &, const int &, const int &, const int &, const int &, const int &, const int &, const int &, const int *&, const int *&, const Float *&, const Float *&, const Float *&, const int *&, const Bool *&, const int *&, const int *&, Float *&>, Is=<1U, 2U, 4U, 8U, 16U, 24U, 32U, 48U, 64U>, Js=<1U, 2U, 4U>, Ks=<8U, 16U, 24U, 32U, 48U, 64U, 96U, 128U, 256U>]\" \n",
      "/home/matteo/hpc/parallel/challenge/translate-challenge/rte-rrtmgp-cpp/src_kernels_cuda/gas_optics_kernel_launchers.cu(293): here\n",
      "\n",
      "/home/matteo/hpc/parallel/challenge/translate-challenge/rte-rrtmgp-cpp/src_kernels_cuda/../include/tuner.h(267): error: expected an expression\n",
      "          detected during instantiation of \"std::tuple<dim3, dim3> tune_kernel_compile_time<Func,Args...,Is...,Js...,Ks...>(const std::__cxx11::string &, dim3, std::integer_sequence<unsigned int, Is...>, std::integer_sequence<unsigned int, Js...>, std::integer_sequence<unsigned int, Ks...>, Args &&...) [with Func=rrtmgp_kernel_launcher_cuda::Gas_optical_depths_major_kernel, Args=<const int &, const int &, const int &, const int &, const int &, const int &, const int &, const int &, const int *&, const int *&, const Float *&, const Float *&, const Float *&, const int *&, const Bool *&, const int *&, const int *&, Float *&>, Is=<1U, 2U, 4U, 8U, 16U, 24U, 32U, 48U, 64U>, Js=<1U, 2U, 4U>, Ks=<8U, 16U, 24U, 32U, 48U, 64U, 96U, 128U, 256U>]\" \n",
      "/home/matteo/hpc/parallel/challenge/translate-challenge/rte-rrtmgp-cpp/src_kernels_cuda/gas_optics_kernel_launchers.cu(293): here\n",
      "\n",
      "/home/matteo/hpc/parallel/challenge/translate-challenge/rte-rrtmgp-cpp/src_kernels_cuda/../include/tuner.h(255): error: parameter pack \"Ks\" was referenced but not expanded\n",
      "          detected during:\n",
      "            instantiation of \"void tune_i<Func,I,Js...,Ks...,Args...>(std::integer_sequence<unsigned int, Js...>, std::integer_sequence<unsigned int, Ks...>, dim3, dim3 &, dim3 &, float &, std::ofstream &, Args...) [with Func=rrtmgp_kernel_launcher_cuda::Gas_optical_depths_major_kernel, I=1U, Js=<1U, 2U, 4U>, Ks=<8U, 16U, 24U, 32U, 48U, 64U, 96U, 128U, 256U>, Args=<int, int, int, int, int, int, int, int, const int *, const int *, const Float *, const Float *, const Float *, const int *, const Bool *, const int *, const int *, Float *>]\" \n",
      "(308): here\n",
      "            instantiation of \"std::tuple<dim3, dim3> tune_kernel_compile_time<Func,Args...,Is...,Js...,Ks...>(const std::__cxx11::string &, dim3, std::integer_sequence<unsigned int, Is...>, std::integer_sequence<unsigned int, Js...>, std::integer_sequence<unsigned int, Ks...>, Args &&...) [with Func=rrtmgp_kernel_launcher_cuda::Gas_optical_depths_major_kernel, Args=<const int &, const int &, const int &, const int &, const int &, const int &, const int &, const int &, const int *&, const int *&, const Float *&, const Float *&, const Float *&, const int *&, const Bool *&, const int *&, const int *&, Float *&>, Is=<1U, 2U, 4U, 8U, 16U, 24U, 32U, 48U, 64U>, Js=<1U, 2U, 4U>, Ks=<8U, 16U, 24U, 32U, 48U, 64U, 96U, 128U, 256U>]\" \n",
      "/home/matteo/hpc/parallel/challenge/translate-challenge/rte-rrtmgp-cpp/src_kernels_cuda/gas_optics_kernel_launchers.cu(293): here\n",
      "\n",
      "/home/matteo/hpc/parallel/challenge/translate-challenge/rte-rrtmgp-cpp/src_kernels_cuda/../include/tuner.h(255): error: expected an expression\n",
      "          detected during:\n",
      "            instantiation of \"void tune_i<Func,I,Js...,Ks...,Args...>(std::integer_sequence<unsigned int, Js...>, std::integer_sequence<unsigned int, Ks...>, dim3, dim3 &, dim3 &, float &, std::ofstream &, Args...) [with Func=rrtmgp_kernel_launcher_cuda::Gas_optical_depths_major_kernel, I=1U, Js=<1U, 2U, 4U>, Ks=<8U, 16U, 24U, 32U, 48U, 64U, 96U, 128U, 256U>, Args=<int, int, int, int, int, int, int, int, const int *, const int *, const Float *, const Float *, const Float *, const int *, const Bool *, const int *, const int *, Float *>]\" \n",
      "(308): here\n",
      "            instantiation of \"std::tuple<dim3, dim3> tune_kernel_compile_time<Func,Args...,Is...,Js...,Ks...>(const std::__cxx11::string &, dim3, std::integer_sequence<unsigned int, Is...>, std::integer_sequence<unsigned int, Js...>, std::integer_sequence<unsigned int, Ks...>, Args &&...) [with Func=rrtmgp_kernel_launcher_cuda::Gas_optical_depths_major_kernel, Args=<const int &, const int &, const int &, const int &, const int &, const int &, const int &, const int &, const int *&, const int *&, const Float *&, const Float *&, const Float *&, const int *&, const Bool *&, const int *&, const int *&, Float *&>, Is=<1U, 2U, 4U, 8U, 16U, 24U, 32U, 48U, 64U>, Js=<1U, 2U, 4U>, Ks=<8U, 16U, 24U, 32U, 48U, 64U, 96U, 128U, 256U>]\" \n",
      "/home/matteo/hpc/parallel/challenge/translate-challenge/rte-rrtmgp-cpp/src_kernels_cuda/gas_optics_kernel_launchers.cu(293): here\n",
      "\n",
      "/home/matteo/hpc/parallel/challenge/translate-challenge/rte-rrtmgp-cpp/src_kernels_cuda/../include/tuner.h(359): error: parameter pack \"Is\" was referenced but not expanded\n",
      "\n",
      "/home/matteo/hpc/parallel/challenge/translate-challenge/rte-rrtmgp-cpp/src_kernels_cuda/../include/tuner.h(359): error: expected an expression\n",
      "\n",
      "/home/matteo/hpc/parallel/challenge/translate-challenge/rte-rrtmgp-cpp/src_kernels_cuda/../include/tuner.h(347): error: parameter pack \"Js\" was referenced but not expanded\n",
      "          detected during instantiation of \"void run_kernel_compile_time<Func,Args...,Is...,Js...,Ks...>(std::integer_sequence<unsigned int, Is...>, std::integer_sequence<unsigned int, Js...>, std::integer_sequence<unsigned int, Ks...>, dim3, dim3, Args &&...) [with Func=rrtmgp_kernel_launcher_cuda::Gas_optical_depths_major_kernel, Args=<const int &, const int &, const int &, const int &, const int &, const int &, const int &, const int &, const int *&, const int *&, const Float *&, const Float *&, const Float *&, const int *&, const Bool *&, const int *&, const int *&, Float *&>, Is=<1U, 2U, 4U, 8U, 16U, 24U, 32U, 48U, 64U>, Js=<1U, 2U, 4U>, Ks=<8U, 16U, 24U, 32U, 48U, 64U, 96U, 128U, 256U>]\" \n",
      "/home/matteo/hpc/parallel/challenge/translate-challenge/rte-rrtmgp-cpp/src_kernels_cuda/gas_optics_kernel_launchers.cu(317): here\n",
      "\n",
      "/home/matteo/hpc/parallel/challenge/translate-challenge/rte-rrtmgp-cpp/src_kernels_cuda/../include/tuner.h(347): error: expected an expression\n",
      "          detected during instantiation of \"void run_kernel_compile_time<Func,Args...,Is...,Js...,Ks...>(std::integer_sequence<unsigned int, Is...>, std::integer_sequence<unsigned int, Js...>, std::integer_sequence<unsigned int, Ks...>, dim3, dim3, Args &&...) [with Func=rrtmgp_kernel_launcher_cuda::Gas_optical_depths_major_kernel, Args=<const int &, const int &, const int &, const int &, const int &, const int &, const int &, const int &, const int *&, const int *&, const Float *&, const Float *&, const Float *&, const int *&, const Bool *&, const int *&, const int *&, Float *&>, Is=<1U, 2U, 4U, 8U, 16U, 24U, 32U, 48U, 64U>, Js=<1U, 2U, 4U>, Ks=<8U, 16U, 24U, 32U, 48U, 64U, 96U, 128U, 256U>]\" \n",
      "/home/matteo/hpc/parallel/challenge/translate-challenge/rte-rrtmgp-cpp/src_kernels_cuda/gas_optics_kernel_launchers.cu(317): here\n",
      "\n",
      "/home/matteo/hpc/parallel/challenge/translate-challenge/rte-rrtmgp-cpp/src_kernels_cuda/../include/tuner.h(336): error: parameter pack \"Ks\" was referenced but not expanded\n",
      "          detected during:\n",
      "            instantiation of \"void run_i<Func,I,Js...,Ks...,Args...>(std::integer_sequence<unsigned int, Js...>, std::integer_sequence<unsigned int, Ks...>, dim3, dim3, Args...) [with Func=rrtmgp_kernel_launcher_cuda::Gas_optical_depths_major_kernel, I=1U, Js=<1U, 2U, 4U>, Ks=<8U, 16U, 24U, 32U, 48U, 64U, 96U, 128U, 256U>, Args=<int, int, int, int, int, int, int, int, const int *, const int *, const Float *, const Float *, const Float *, const int *, const Bool *, const int *, const int *, Float *>]\" \n",
      "(359): here\n",
      "            instantiation of \"void run_kernel_compile_time<Func,Args...,Is...,Js...,Ks...>(std::integer_sequence<unsigned int, Is...>, std::integer_sequence<unsigned int, Js...>, std::integer_sequence<unsigned int, Ks...>, dim3, dim3, Args &&...) [with Func=rrtmgp_kernel_launcher_cuda::Gas_optical_depths_major_kernel, Args=<const int &, const int &, const int &, const int &, const int &, const int &, const int &, const int &, const int *&, const int *&, const Float *&, const Float *&, const Float *&, const int *&, const Bool *&, const int *&, const int *&, Float *&>, Is=<1U, 2U, 4U, 8U, 16U, 24U, 32U, 48U, 64U>, Js=<1U, 2U, 4U>, Ks=<8U, 16U, 24U, 32U, 48U, 64U, 96U, 128U, 256U>]\" \n",
      "/home/matteo/hpc/parallel/challenge/translate-challenge/rte-rrtmgp-cpp/src_kernels_cuda/gas_optics_kernel_launchers.cu(317): here\n",
      "\n",
      "/home/matteo/hpc/parallel/challenge/translate-challenge/rte-rrtmgp-cpp/src_kernels_cuda/../include/tuner.h(336): error: expected an expression\n",
      "          detected during:\n",
      "            instantiation of \"void run_i<Func,I,Js...,Ks...,Args...>(std::integer_sequence<unsigned int, Js...>, std::integer_sequence<unsigned int, Ks...>, dim3, dim3, Args...) [with Func=rrtmgp_kernel_launcher_cuda::Gas_optical_depths_major_kernel, I=1U, Js=<1U, 2U, 4U>, Ks=<8U, 16U, 24U, 32U, 48U, 64U, 96U, 128U, 256U>, Args=<int, int, int, int, int, int, int, int, const int *, const int *, const Float *, const Float *, const Float *, const int *, const Bool *, const int *, const int *, Float *>]\" \n",
      "(359): here\n",
      "            instantiation of \"void run_kernel_compile_time<Func,Args...,Is...,Js...,Ks...>(std::integer_sequence<unsigned int, Is...>, std::integer_sequence<unsigned int, Js...>, std::integer_sequence<unsigned int, Ks...>, dim3, dim3, Args &&...) [with Func=rrtmgp_kernel_launcher_cuda::Gas_optical_depths_major_kernel, Args=<const int &, const int &, const int &, const int &, const int &, const int &, const int &, const int &, const int *&, const int *&, const Float *&, const Float *&, const Float *&, const int *&, const Bool *&, const int *&, const int *&, Float *&>, Is=<1U, 2U, 4U, 8U, 16U, 24U, 32U, 48U, 64U>, Js=<1U, 2U, 4U>, Ks=<8U, 16U, 24U, 32U, 48U, 64U, 96U, 128U, 256U>]\" \n",
      "/home/matteo/hpc/parallel/challenge/translate-challenge/rte-rrtmgp-cpp/src_kernels_cuda/gas_optics_kernel_launchers.cu(317): here\n",
      "\n",
      "/home/matteo/hpc/parallel/challenge/translate-challenge/rte-rrtmgp-cpp/src_kernels_cuda/gas_optics_kernels.cu(611): error: expected a \"(\"\n",
      "\n",
      "13 errors detected in the compilation of \"/tmp/tmpxft_00000a29_00000000-6_gas_optics_kernel_launchers.cpp1.ii\".\n"
     ]
    },
    {
     "name": "stdout",
     "output_type": "stream",
     "text": [
      "make[2]: *** [src_kernels_cuda/CMakeFiles/rte_rrtmgp_kernels_cuda.dir/build.make:76: src_kernels_cuda/CMakeFiles/rte_rrtmgp_kernels_cuda.dir/gas_optics_kernel_launchers.cu.o] Errore 1\r\n",
      "make[1]: *** [CMakeFiles/Makefile2:224: src_kernels_cuda/CMakeFiles/rte_rrtmgp_kernels_cuda.dir/all] Errore 2\r\n",
      "make: *** [Makefile:91: all] Errore 2\r\n"
     ]
    }
   ],
   "source": [
    "!make"
   ]
  },
  {
   "cell_type": "markdown",
   "metadata": {
    "id": "ruz1mJlB_LGZ"
   },
   "source": [
    "### **Example**"
   ]
  },
  {
   "cell_type": "markdown",
   "metadata": {
    "id": "q1NRq03r_O_O"
   },
   "source": [
    "Run the application using helper scripts:"
   ]
  },
  {
   "cell_type": "code",
   "execution_count": null,
   "metadata": {
    "id": "-1gMXKTT5K9I"
   },
   "outputs": [],
   "source": [
    "%cd ../allsky"
   ]
  },
  {
   "cell_type": "code",
   "execution_count": null,
   "metadata": {
    "id": "uzR6En4i5Qxa"
   },
   "outputs": [],
   "source": [
    "!./make_links.sh"
   ]
  },
  {
   "cell_type": "code",
   "execution_count": null,
   "metadata": {
    "id": "Wj7Z1Lz2-TUc"
   },
   "outputs": [],
   "source": [
    "!python allsky_init.py"
   ]
  },
  {
   "cell_type": "code",
   "execution_count": null,
   "metadata": {
    "id": "VCp5-Y_g-vdX"
   },
   "outputs": [],
   "source": [
    "!python allsky_run.py"
   ]
  },
  {
   "cell_type": "code",
   "execution_count": null,
   "metadata": {
    "id": "XzM-qDwg-0Vr"
   },
   "outputs": [],
   "source": [
    "!python compare-to-reference.py"
   ]
  },
  {
   "cell_type": "markdown",
   "metadata": {
    "id": "ZJ4LpsgK_ckV"
   },
   "source": [
    "### **Challenge**\n",
    "\n",
    "Your task is now to translate into serial C code the `gas_optical_depths_minor` kernel, which can be found at /content/rte-rrtmgp-cpp/src_kernels_cuda/gas_optics_kernels.cu. The kernel is launched twice in the `compute_tau_absorption` function in /content/rte-rrtmgp-cpp/src_kernels_cuda/gas_optics_kernel_launchers.cu\n",
    "\n",
    "One point is given to all those who succesfully **a) translate the kernel, b) verify that the accuracy of the application did not drop significantly, and c) measure the performance loss**.\n",
    "\n",
    "One additional point will be given to those who also find a way to **improve the performance** of the application with respect to the serial C baseline **(going back to the original CUDA implementation does not count)**."
   ]
  },
  {
   "cell_type": "markdown",
   "metadata": {
    "id": "ggduAmheN8kw"
   },
   "source": [
    "### **Final task list**\n",
    "\n",
    "\n",
    "1. Upload on WeBeep a short report (~2 pages) explaining what you did and showing the results you obtained by the deadline.\n",
    "\n",
    "2. Create a branch with a unique name (nickname/favourite actor/whatever, just not something that another of your classmates would use) and push your version of the code to the GitHub repository after the deadline (to avoid plagiarism as much as possible). **NB:** all branches with `cuda` in their name are locked to avoid overwriting the one that stands as a starting point for everyone.\n",
    "\n",
    "3. Be prepared to present what you did in class (no need for a powerpoint, just speak and show your code)."
   ]
  },
  {
   "cell_type": "markdown",
   "metadata": {
    "id": "Qm8DC5rQRoTb"
   },
   "source": [
    "### **Additional information**\n",
    "\n",
    "If you are curious about what this application does and where it comes from, here are some useful resources:\n",
    "\n",
    "*   https://en.wikipedia.org/wiki/Weather_Research_and_Forecasting_Model\n",
    "*   https://github.com/earth-system-radiation/rte-rrtmgp\n",
    "*   https://agupubs.onlinelibrary.wiley.com/doi/10.1029/2019MS001621\n",
    "\n",
    "\n"
   ]
  }
 ],
 "metadata": {
  "colab": {
   "authorship_tag": "ABX9TyNgRLOexJxpnJulx9WSme+0",
   "provenance": []
  },
  "kernelspec": {
   "display_name": "Python 3 (ipykernel)",
   "language": "python",
   "name": "python3"
  },
  "language_info": {
   "codemirror_mode": {
    "name": "ipython",
    "version": 3
   },
   "file_extension": ".py",
   "mimetype": "text/x-python",
   "name": "python",
   "nbconvert_exporter": "python",
   "pygments_lexer": "ipython3",
   "version": "3.8.10"
  }
 },
 "nbformat": 4,
 "nbformat_minor": 1
}
